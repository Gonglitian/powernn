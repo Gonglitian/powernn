{
 "cells": [
  {
   "cell_type": "code",
   "execution_count": 5,
   "metadata": {},
   "outputs": [],
   "source": [
    "from core.layers import Dense\n",
    "from core.layers import ReLU\n",
    "from core.nn import Net\n",
    "from core.Tensor import Tensor\n",
    "import numpy as np\n",
    "from core.ops import *"
   ]
  },
  {
   "cell_type": "code",
   "execution_count": 7,
   "metadata": {},
   "outputs": [
    {
     "data": {
      "text/plain": [
       "(100, 1)"
      ]
     },
     "execution_count": 7,
     "metadata": {},
     "output_type": "execute_result"
    }
   ],
   "source": [
    "x = Tensor(np.random.normal(0, 1.0, (100, 3)))\n",
    "coef = Tensor(np.random.randint(0, 10, (3,1)))\n",
    "y = x @ coef - 3 \n",
    "y.shape"
   ]
  },
  {
   "cell_type": "code",
   "execution_count": 51,
   "metadata": {},
   "outputs": [
    {
     "data": {
      "text/plain": [
       "Tensor(values = [3 3 3], shape=(3,), requires_grad=False)"
      ]
     },
     "execution_count": 51,
     "metadata": {},
     "output_type": "execute_result"
    }
   ],
   "source": [
    "x = Tensor([4,5,6])\n",
    "x.clip(2,3)"
   ]
  },
  {
   "cell_type": "code",
   "execution_count": 52,
   "metadata": {},
   "outputs": [
    {
     "name": "stdout",
     "output_type": "stream",
     "text": [
      "Tensor(values = [[6 4 1 8 8 4 8 9 3 3 2 1 9 2 4 1 9 7 4 6 2 3 8 6 8 4 7 2 1 7 5 2 7 5 5 1\n",
      "  9 8 8 1 4 9 7 2 1 6 4 5 1 2 1 7 6 5 4 4 1 3 2 5 3 6 2 4 9 4 4 8 2 9 5 8\n",
      "  2 1 2 5 9 2 6 4 5 8 6 5 1 8 4 8 8 2 8 4 6 1 2 1 5 5 5 8]], shape=(1, 100), requires_grad=False)\n"
     ]
    },
    {
     "data": {
      "text/plain": [
       "Tensor(values = [[ 0.          2.5109177   0.          0.          0.73090166  0.73129118\n",
       "   1.17620213  0.          0.          0.          0.38413262  0.51580173\n",
       "  10.8045973   0.          8.66787619  0.19077005  0.          0.\n",
       "   0.          4.83809119  0.          7.31483152  0.          0.\n",
       "   0.          0.16323221  5.81149934  0.          1.45058066  5.36417923\n",
       "   0.          0.          0.          4.25432319  0.          9.81029697\n",
       "   0.44093165  0.          6.28346577  9.21384202  0.          7.84485862\n",
       "   0.          0.          0.          0.          0.          0.\n",
       "   1.94559726  1.35787169  5.83077196  2.72310405  6.08668656  6.56992717\n",
       "   1.00254501 11.11505333  0.          0.          9.93142059  4.54838358\n",
       "   0.          5.67919561  0.          7.91050409  0.35783022  2.99079439\n",
       "   0.          0.          0.          0.          0.          1.38780173\n",
       "   8.44564727  8.63059496  0.          7.08304536  9.19007395  4.79203801\n",
       "   0.          0.          5.03129362  0.64020716  4.34537607  0.\n",
       "   0.          5.52498531  0.          0.14900331  5.77017964  0.\n",
       "   0.          2.07408171  1.34349398  5.35905625  0.          0.\n",
       "   0.          0.          2.53056572  0.40199369]], shape=(1, 100), requires_grad=True)"
      ]
     },
     "execution_count": 52,
     "metadata": {},
     "output_type": "execute_result"
    }
   ],
   "source": [
    "net = Net([Dense(100),ReLU()])\n",
    "x = Tensor(np.random.randint(1,10,(1,100)))\n",
    "print(x)\n",
    "net.get_parameters()\n",
    "net.forward(x)\n"
   ]
  },
  {
   "cell_type": "code",
   "execution_count": 53,
   "metadata": {},
   "outputs": [
    {
     "name": "stdout",
     "output_type": "stream",
     "text": [
      "('d', 'e', 'f')\n"
     ]
    }
   ],
   "source": [
    "a = (\"a\", \"b\", \"c\", \"d\", \"e\", \"f\", \"g\", \"h\")\n",
    "x = slice(3, 6)\n",
    "print(a[x])"
   ]
  },
  {
   "cell_type": "code",
   "execution_count": 48,
   "metadata": {},
   "outputs": [
    {
     "name": "stdout",
     "output_type": "stream",
     "text": [
      "(5, 2)\n"
     ]
    },
    {
     "ename": "TypeError",
     "evalue": "cannot unpack non-iterable int object",
     "output_type": "error",
     "traceback": [
      "\u001b[1;31m---------------------------------------------------------------------------\u001b[0m",
      "\u001b[1;31mTypeError\u001b[0m                                 Traceback (most recent call last)",
      "\u001b[1;32mc:\\Users\\GLT\\Desktop\\Junior_Winter_Vacation\\powernn\\core\\test.ipynb Cell 5\u001b[0m in \u001b[0;36m<cell line: 4>\u001b[1;34m()\u001b[0m\n\u001b[0;32m      <a href='vscode-notebook-cell:/c%3A/Users/GLT/Desktop/Junior_Winter_Vacation/powernn/core/test.ipynb#W3sZmlsZQ%3D%3D?line=1'>2</a>\u001b[0m x \u001b[39m=\u001b[39m Tensor(x)\n\u001b[0;32m      <a href='vscode-notebook-cell:/c%3A/Users/GLT/Desktop/Junior_Winter_Vacation/powernn/core/test.ipynb#W3sZmlsZQ%3D%3D?line=2'>3</a>\u001b[0m \u001b[39mprint\u001b[39m(x\u001b[39m.\u001b[39mshape)\n\u001b[1;32m----> <a href='vscode-notebook-cell:/c%3A/Users/GLT/Desktop/Junior_Winter_Vacation/powernn/core/test.ipynb#W3sZmlsZQ%3D%3D?line=3'>4</a>\u001b[0m y \u001b[39m=\u001b[39m pad(x,(\u001b[39m2\u001b[39;49m,\u001b[39m3\u001b[39;49m))\n\u001b[0;32m      <a href='vscode-notebook-cell:/c%3A/Users/GLT/Desktop/Junior_Winter_Vacation/powernn/core/test.ipynb#W3sZmlsZQ%3D%3D?line=4'>5</a>\u001b[0m y\n",
      "File \u001b[1;32mc:\\Users\\GLT\\Desktop\\Junior_Winter_Vacation\\powernn\\core\\ops.py:347\u001b[0m, in \u001b[0;36mpad\u001b[1;34m(obj, pad_width, mode)\u001b[0m\n\u001b[0;32m    346\u001b[0m \u001b[39mdef\u001b[39;00m \u001b[39mreshape\u001b[39m(obj, newshape):\n\u001b[1;32m--> 347\u001b[0m     \u001b[39mreturn\u001b[39;00m reshape_(to_Tensor(obj), newshape)\n",
      "File \u001b[1;32mc:\\Users\\GLT\\Desktop\\Junior_Winter_Vacation\\powernn\\core\\ops.py:286\u001b[0m, in \u001b[0;36mpad_\u001b[1;34m(ts, pad_width, mode)\u001b[0m\n\u001b[0;32m    281\u001b[0m         \u001b[39mreturn\u001b[39;00m grad\u001b[39m.\u001b[39mreshape(shape)\n\u001b[0;32m    283\u001b[0m     \u001b[39mreturn\u001b[39;00m build_unary_ops_tensor(ts, grad_fn, values)\n\u001b[1;32m--> 286\u001b[0m \u001b[39mdef\u001b[39;00m \u001b[39mpad_\u001b[39m(ts, pad_width, mode):\n\u001b[0;32m    287\u001b[0m     values \u001b[39m=\u001b[39m np\u001b[39m.\u001b[39mpad(ts\u001b[39m.\u001b[39mvalues, pad_width\u001b[39m=\u001b[39mpad_width, mode\u001b[39m=\u001b[39mmode)\n\u001b[0;32m    288\u001b[0m     slices \u001b[39m=\u001b[39m \u001b[39mlist\u001b[39m()\n",
      "\u001b[1;31mTypeError\u001b[0m: cannot unpack non-iterable int object"
     ]
    }
   ],
   "source": [
    "x = np.arange(0,10).reshape(-1,2)\n",
    "x = Tensor(x)\n",
    "print(x.shape)\n",
    "y = pad(x,(2,3))\n",
    "y"
   ]
  }
 ],
 "metadata": {
  "kernelspec": {
   "display_name": "Python 3",
   "language": "python",
   "name": "python3"
  },
  "language_info": {
   "codemirror_mode": {
    "name": "ipython",
    "version": 3
   },
   "file_extension": ".py",
   "mimetype": "text/x-python",
   "name": "python",
   "nbconvert_exporter": "python",
   "pygments_lexer": "ipython3",
   "version": "3.8.6"
  },
  "orig_nbformat": 4,
  "vscode": {
   "interpreter": {
    "hash": "8bfad08b73d8ae58273d7e252c9e1d922058e2a21d3a8ccb2a1b9808ae54a57f"
   }
  }
 },
 "nbformat": 4,
 "nbformat_minor": 2
}
