{
 "cells": [
  {
   "cell_type": "code",
   "execution_count": 2,
   "metadata": {},
   "outputs": [],
   "source": [
    "from layers import Dense\n",
    "from layers import ReLU\n",
    "from nn import Net\n",
    "from Tensor import Tensor\n",
    "import numpy as np"
   ]
  },
  {
   "cell_type": "code",
   "execution_count": 22,
   "metadata": {},
   "outputs": [
    {
     "data": {
      "text/plain": [
       "Tensor(values = [3 3 3], shape=(3,), requires_grad=False)"
      ]
     },
     "execution_count": 22,
     "metadata": {},
     "output_type": "execute_result"
    }
   ],
   "source": [
    "x = Tensor([4,5,6])\n",
    "x.clip(2,3)"
   ]
  },
  {
   "cell_type": "code",
   "execution_count": 12,
   "metadata": {},
   "outputs": [
    {
     "name": "stdout",
     "output_type": "stream",
     "text": [
      "Tensor(values = [[6 6 6 6 6 4 3 7 2 2 7 6 6 3 7 9 6 5 5 2 1 6 3 5 8 9 8 6 9 2 1 1 7 4 9 6\n",
      "  9 1 3 8 1 2 6 8 1 9 1 1 7 9 1 5 9 9 9 8 5 2 4 7 9 8 8 7 5 2 3 7 6 5 1 9\n",
      "  1 2 1 6 3 1 9 5 8 1 2 1 5 2 4 8 5 9 8 8 2 9 5 3 8 9 6 2]], shape=(1, 100), requires_grad=False)\n"
     ]
    },
    {
     "data": {
      "text/plain": [
       "Tensor(values = [[ 0.          0.99885461  0.          1.21795956  0.          0.\n",
       "   2.74839379  0.          2.68385409  1.29311913  0.          0.26551365\n",
       "   5.36809181  0.          4.33670564  5.24312662  0.          0.\n",
       "   7.54248296 11.19623171  2.21333009  0.03155306  0.          0.\n",
       "   0.          5.76109214  0.          0.          0.          7.78032159\n",
       "   5.41007373  3.24594691  5.21601798  0.          0.          0.59667229\n",
       "   0.          7.937172    6.8994615  10.75681682  4.90692631  2.34661753\n",
       "   0.          0.          0.          0.          0.          5.49331006\n",
       "   0.          0.          0.          1.14823342 12.03793509  0.\n",
       "   0.          1.16220752  0.          0.          0.          6.7921828\n",
       "   8.65505287  2.02084715  0.          0.         11.23936638  0.\n",
       "  16.97281861  0.          0.          0.          2.37933727  0.\n",
       "   2.90769875  1.60495862  3.77375022  0.          2.70616275  3.43413864\n",
       "   5.42894911  8.04356412  0.          2.28229902  2.76923612  3.08421655\n",
       "   0.          1.31280353  0.          7.63102591  0.          0.\n",
       "   9.88216381  0.          4.35864617  2.07415685  0.          0.\n",
       "   0.          2.35610071  0.92897112  0.        ]], shape=(1, 100), requires_grad=True)"
      ]
     },
     "execution_count": 12,
     "metadata": {},
     "output_type": "execute_result"
    }
   ],
   "source": [
    "net = Net([Dense(100),ReLU()])\n",
    "x = Tensor(np.random.randint(1,10,(1,100)))\n",
    "print(x)\n",
    "net.get_parameters()\n",
    "net.forward(x)\n"
   ]
  }
 ],
 "metadata": {
  "kernelspec": {
   "display_name": "Python 3",
   "language": "python",
   "name": "python3"
  },
  "language_info": {
   "codemirror_mode": {
    "name": "ipython",
    "version": 3
   },
   "file_extension": ".py",
   "mimetype": "text/x-python",
   "name": "python",
   "nbconvert_exporter": "python",
   "pygments_lexer": "ipython3",
   "version": "3.8.6"
  },
  "orig_nbformat": 4,
  "vscode": {
   "interpreter": {
    "hash": "8bfad08b73d8ae58273d7e252c9e1d922058e2a21d3a8ccb2a1b9808ae54a57f"
   }
  }
 },
 "nbformat": 4,
 "nbformat_minor": 2
}
