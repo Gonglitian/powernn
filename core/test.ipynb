{
 "cells": [
  {
   "cell_type": "code",
   "execution_count": 32,
   "metadata": {},
   "outputs": [],
   "source": [
    "from layers import Dense\n",
    "from layers import ReLU\n",
    "from nn import Net\n",
    "from Tensor import Tensor\n",
    "import numpy as np\n",
    "from ops import *"
   ]
  },
  {
   "cell_type": "code",
   "execution_count": 22,
   "metadata": {},
   "outputs": [
    {
     "data": {
      "text/plain": [
       "Tensor(values = [3 3 3], shape=(3,), requires_grad=False)"
      ]
     },
     "execution_count": 22,
     "metadata": {},
     "output_type": "execute_result"
    }
   ],
   "source": [
    "x = Tensor([4,5,6])\n",
    "x.clip(2,3)"
   ]
  },
  {
   "cell_type": "code",
   "execution_count": null,
   "metadata": {},
   "outputs": [],
   "source": [
    "net = Net([Dense(100),ReLU()])\n",
    "x = Tensor(np.random.randint(1,10,(1,100)))\n",
    "print(x)\n",
    "net.get_parameters()\n",
    "net.forward(x)\n"
   ]
  },
  {
   "cell_type": "code",
   "execution_count": 26,
   "metadata": {},
   "outputs": [
    {
     "name": "stdout",
     "output_type": "stream",
     "text": [
      "('d', 'e', 'f')\n"
     ]
    }
   ],
   "source": [
    "a = (\"a\", \"b\", \"c\", \"d\", \"e\", \"f\", \"g\", \"h\")\n",
    "x = slice(3, 6)\n",
    "print(a[x])"
   ]
  },
  {
   "cell_type": "code",
   "execution_count": 48,
   "metadata": {},
   "outputs": [
    {
     "name": "stdout",
     "output_type": "stream",
     "text": [
      "(5, 2)\n"
     ]
    },
    {
     "ename": "TypeError",
     "evalue": "cannot unpack non-iterable int object",
     "output_type": "error",
     "traceback": [
      "\u001b[1;31m---------------------------------------------------------------------------\u001b[0m",
      "\u001b[1;31mTypeError\u001b[0m                                 Traceback (most recent call last)",
      "\u001b[1;32mc:\\Users\\GLT\\Desktop\\Junior_Winter_Vacation\\powernn\\core\\test.ipynb Cell 5\u001b[0m in \u001b[0;36m<cell line: 4>\u001b[1;34m()\u001b[0m\n\u001b[0;32m      <a href='vscode-notebook-cell:/c%3A/Users/GLT/Desktop/Junior_Winter_Vacation/powernn/core/test.ipynb#W3sZmlsZQ%3D%3D?line=1'>2</a>\u001b[0m x \u001b[39m=\u001b[39m Tensor(x)\n\u001b[0;32m      <a href='vscode-notebook-cell:/c%3A/Users/GLT/Desktop/Junior_Winter_Vacation/powernn/core/test.ipynb#W3sZmlsZQ%3D%3D?line=2'>3</a>\u001b[0m \u001b[39mprint\u001b[39m(x\u001b[39m.\u001b[39mshape)\n\u001b[1;32m----> <a href='vscode-notebook-cell:/c%3A/Users/GLT/Desktop/Junior_Winter_Vacation/powernn/core/test.ipynb#W3sZmlsZQ%3D%3D?line=3'>4</a>\u001b[0m y \u001b[39m=\u001b[39m pad(x,(\u001b[39m2\u001b[39;49m,\u001b[39m3\u001b[39;49m))\n\u001b[0;32m      <a href='vscode-notebook-cell:/c%3A/Users/GLT/Desktop/Junior_Winter_Vacation/powernn/core/test.ipynb#W3sZmlsZQ%3D%3D?line=4'>5</a>\u001b[0m y\n",
      "File \u001b[1;32mc:\\Users\\GLT\\Desktop\\Junior_Winter_Vacation\\powernn\\core\\ops.py:347\u001b[0m, in \u001b[0;36mpad\u001b[1;34m(obj, pad_width, mode)\u001b[0m\n\u001b[0;32m    346\u001b[0m \u001b[39mdef\u001b[39;00m \u001b[39mreshape\u001b[39m(obj, newshape):\n\u001b[1;32m--> 347\u001b[0m     \u001b[39mreturn\u001b[39;00m reshape_(to_Tensor(obj), newshape)\n",
      "File \u001b[1;32mc:\\Users\\GLT\\Desktop\\Junior_Winter_Vacation\\powernn\\core\\ops.py:286\u001b[0m, in \u001b[0;36mpad_\u001b[1;34m(ts, pad_width, mode)\u001b[0m\n\u001b[0;32m    281\u001b[0m         \u001b[39mreturn\u001b[39;00m grad\u001b[39m.\u001b[39mreshape(shape)\n\u001b[0;32m    283\u001b[0m     \u001b[39mreturn\u001b[39;00m build_unary_ops_tensor(ts, grad_fn, values)\n\u001b[1;32m--> 286\u001b[0m \u001b[39mdef\u001b[39;00m \u001b[39mpad_\u001b[39m(ts, pad_width, mode):\n\u001b[0;32m    287\u001b[0m     values \u001b[39m=\u001b[39m np\u001b[39m.\u001b[39mpad(ts\u001b[39m.\u001b[39mvalues, pad_width\u001b[39m=\u001b[39mpad_width, mode\u001b[39m=\u001b[39mmode)\n\u001b[0;32m    288\u001b[0m     slices \u001b[39m=\u001b[39m \u001b[39mlist\u001b[39m()\n",
      "\u001b[1;31mTypeError\u001b[0m: cannot unpack non-iterable int object"
     ]
    }
   ],
   "source": [
    "x = np.arange(0,10).reshape(-1,2)\n",
    "x = Tensor(x)\n",
    "print(x.shape)\n",
    "y = pad(x,(2,3))\n",
    "y"
   ]
  }
 ],
 "metadata": {
  "kernelspec": {
   "display_name": "Python 3",
   "language": "python",
   "name": "python3"
  },
  "language_info": {
   "codemirror_mode": {
    "name": "ipython",
    "version": 3
   },
   "file_extension": ".py",
   "mimetype": "text/x-python",
   "name": "python",
   "nbconvert_exporter": "python",
   "pygments_lexer": "ipython3",
   "version": "3.8.6"
  },
  "orig_nbformat": 4,
  "vscode": {
   "interpreter": {
    "hash": "8bfad08b73d8ae58273d7e252c9e1d922058e2a21d3a8ccb2a1b9808ae54a57f"
   }
  }
 },
 "nbformat": 4,
 "nbformat_minor": 2
}
